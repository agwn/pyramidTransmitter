{
 "metadata": {
  "name": "Creating a Sequence with SetList"
 },
 "nbformat": 3,
 "nbformat_minor": 0,
 "worksheets": [
  {
   "cells": [
    {
     "cell_type": "heading",
     "level": 1,
     "metadata": {},
     "source": [
      "Pyramid Programming - Creating a Sequence with SetList"
     ]
    },
    {
     "cell_type": "markdown",
     "metadata": {},
     "source": [
      "A <code>SetList</code> is a class where a user defines a list of instructions that control and operate the canvases and routines over time. This allows us to take all existing <code>CanvasRoutines</code>, whether they're pattern generators, filters, effects, etc., and create a show out of it. In this tutorial, a simple 3 parts sequence is created that shows some of the features of the <code>SetList</code> sequencer.\n",
      "\n",
      "Let's take a look at <code>TutorialSimpleSequence</code> in Tutorial.pde:"
     ]
    },
    {
     "cell_type": "markdown",
     "metadata": {},
     "source": [
      "<pre>class TutorialSimpleSequence extends SetList {\n",
      "  TutorialSimpleSequence() { }\n",
      "\n",
      "  TutorialSimpleSequence(SetList setList) {\n",
      "    super(setList);\n",
      "  }\n",
      "\n",
      "  void setup() {\n",
      "    TutorialNoise noise = new TutorialNoise();\n",
      "    TutMovingLines movingLines = new TutMovingLines();\n",
      "    Warp warp = new Warp();\n",
      "\n",
      "    noise.nPixels = 50;\n",
      "\n",
      "    // Part I - Mixing\n",
      "    setCanvas(canvas2, noise);\n",
      "    wait(5.0);\n",
      "    setCanvas(canvas3, movingLines);\n",
      "    wait(5.0);\n",
      "    disableCanvas(canvas2);\n",
      "    wait(5.0);\n",
      "    disableCanvas(canvas3);\n",
      "    wait(5.0);\n",
      "\n",
      "    // Part II - Crossfading\n",
      "    setCanvas(canvas2, noise);\n",
      "    wait(5.0);\n",
      "    setCanvas(canvas3, movingLines);\n",
      "    crossfade(5.0, canvas2, canvas3);\n",
      "    wait(5.0);\n",
      "    disableCanvas(canvas3);\n",
      "    wait(5.0);\n",
      "\n",
      "    // Part III - Routine Chaining\n",
      "    setCanvas(canvas2, noise);\n",
      "    wait(5.0);\n",
      "    pushCanvas(canvas2, movingLines);\n",
      "    wait(5.0);\n",
      "    pushCanvas(canvas2, warp);\n",
      "    wait(5.0);\n",
      "    disableCanvas(canvas2);\n",
      "    wait(5.0);\n",
      "  }\n",
      "}</pre>"
     ]
    },
    {
     "cell_type": "markdown",
     "metadata": {},
     "source": [
      "The constructors <code>TutorialSimpleSequence()</code> and <code>TutorialSImpleSequence(SetList setList)</code> are used to allow SetLists to be embedded in other SetLists. So if you compose a sequence that you want to be used as a subsequence, make sure you follow this convention."
     ]
    },
    {
     "cell_type": "markdown",
     "metadata": {},
     "source": [
      "<pre>TutorialSimpleSequence() { }\n",
      "\n",
      "TutorialSimpleSequence(SetList setList) {\n",
      "  super(setList);\n",
      "}</pre>"
     ]
    },
    {
     "cell_type": "markdown",
     "metadata": {},
     "source": [
      "Your sequence should be created in <code>setup()</code>. The following code creates instances of three routines: <code>TutorialNoise</code>, <code>TutMovingLines</code>, and <code>Warp</code>:"
     ]
    },
    {
     "cell_type": "markdown",
     "metadata": {},
     "source": [
      "<pre>TutorialNoise noise = new TutorialNoise();\n",
      "TutMovingLines movingLines = new TutMovingLines();\n",
      "Warp warp = new Warp();</pre>"
     ]
    },
    {
     "cell_type": "markdown",
     "metadata": {},
     "source": [
      "We also change the default value of <code>nPixels</code> for the object noise, which is 1 by default:"
     ]
    },
    {
     "cell_type": "markdown",
     "metadata": {},
     "source": [
      "<pre>noise.nPixels = 50</pre>"
     ]
    },
    {
     "cell_type": "markdown",
     "metadata": {},
     "source": [
      "The rest of the code creates our sequence. The sequence is divided into three parts."
     ]
    },
    {
     "cell_type": "heading",
     "level": 3,
     "metadata": {},
     "source": [
      "Part I - Mixing"
     ]
    },
    {
     "cell_type": "markdown",
     "metadata": {},
     "source": [
      "This first part demonstrates a few concepts:\n",
      "\n",
      "<ul>\n",
      "    <li>Patterns being played in different canvases will mix to the top left output window.</li>\n",
      "    <li>How to set canvases.</li>\n",
      "    <li>How to disable canvases.</li>\n",
      "    <li>Inserting pauses between instructions.</li>\n",
      "</ul>\n",
      "\n",
      "Let's review the code for Part I:"
     ]
    },
    {
     "cell_type": "markdown",
     "metadata": {},
     "source": [
      "<pre>// Part I - Mixing\n",
      "setCanvas(canvas2, noise);\n",
      "wait(5.0);\n",
      "setCanvas(canvas3, movingLines);\n",
      "wait(5.0);\n",
      "disableCanvas(canvas2);\n",
      "wait(5.0);\n",
      "disableCanvas(canvas3);\n",
      "wait(5.0);</pre>"
     ]
    },
    {
     "cell_type": "markdown",
     "metadata": {},
     "source": [
      "The first thing that happens when we play this is the noise routine starts playing on canvas2. Then there is a pause for 5 seconds, which is controlled by the <code>wait(float timeInSeconds)</code> method.\n",
      "\n",
      "A second pattern, <code>tutMovingLines</code>, starts playing on canvas3. You'll notice that these two patterns mix in the output window. If canvas0 and canvas1 had running patterns, all four would mix to the output window.\n",
      "\n",
      "After another 5 second pause, the <code>disableCanvas(Canvas canvas)</code> method does precisely what it sounds like it would do, disable it leaving only canvas3 running. A pause again, then canvas3 is disable, showing nothing but black in the output window."
     ]
    },
    {
     "cell_type": "heading",
     "level": 3,
     "metadata": {},
     "source": [
      "Part II - Crossfading"
     ]
    },
    {
     "cell_type": "markdown",
     "metadata": {},
     "source": [
      "This next sequence of events is similar to Part I, though it introduces a new instruction:\n",
      "\n",
      "<code>crossfade(float timeInSeconds, Canvas startCanvas, Canvas endCanvas)</code>\n",
      "\n",
      "In a nutshell, you tell <code>crossfade</code> how long the crossfade transition should last, the starting canvas, and the ending canvas. It handles the rest. Let's look at the code:"
     ]
    },
    {
     "cell_type": "markdown",
     "metadata": {},
     "source": [
      "<pre>// Part II - Crossfading\n",
      "setCanvas(canvas2, noise);\n",
      "wait(5.0);\n",
      "setCanvas(canvas3, movingLines);\n",
      "crossfade(5.0, canvas2, canvas3);\n",
      "wait(5.0);\n",
      "disableCanvas(canvas3);\n",
      "wait(5.0);</pre>"
     ]
    },
    {
     "cell_type": "markdown",
     "metadata": {},
     "source": [
      "The sequence starts with the noise again, waits, then transitions from the noise to the moving lines over a course of 5 seconds. After another 5 seconds, the patterns go black until Part III starts."
     ]
    },
    {
     "cell_type": "heading",
     "level": 3,
     "metadata": {},
     "source": [
      "Part III - Routine Chaining"
     ]
    },
    {
     "cell_type": "markdown",
     "metadata": {},
     "source": [
      "This final part of the sequence demonstrates chaining multiple routines into a single cans. This is accomplished with:\n",
      "\n",
      "<code>pushCanvas(Canvas canvas, CanvasRoutine routine)</code>\n",
      "\n",
      "Let's look at the code:"
     ]
    },
    {
     "cell_type": "markdown",
     "metadata": {},
     "source": [
      "<pre>// Part III - Routine Chaining\n",
      "setCanvas(canvas2, noise);\n",
      "wait(5.0);\n",
      "pushCanvas(canvas2, movingLines);\n",
      "wait(5.0);\n",
      "pushCanvas(canvas2, warp);\n",
      "wait(5.0);\n",
      "disableCanvas(canvas2);\n",
      "wait(5.0);</pre>"
     ]
    },
    {
     "cell_type": "markdown",
     "metadata": {},
     "source": [
      "A canvas can store multiple routines at once. When the <code>setCanvas</code> method is called, any routines stored within the specified canvas will be emptied before the new routine is collected. Using the <code>pushCanvas</code> method, other routines can be added.\n",
      "\n",
      "This part of the sequence starts again with the noise. After 5 seconds, the moving lines are added again, though this time on the same canvas rather than canvas3. One more routine, the <code>Warp</code> filter, is pushed onto canvas2, creating a swirly effect.\n",
      "\n",
      "Though it's not possible to tell from this example, the warp filter effects everything in the change prior to it being activated, this includes both the noise and the moving lines"
     ]
    },
    {
     "cell_type": "heading",
     "level": 3,
     "metadata": {},
     "source": [
      "What next?"
     ]
    },
    {
     "cell_type": "markdown",
     "metadata": {},
     "source": [
      "See if you can create some sequences of your own. Take a look at SetLists.pde for ideas."
     ]
    }
   ],
   "metadata": {}
  }
 ]
}