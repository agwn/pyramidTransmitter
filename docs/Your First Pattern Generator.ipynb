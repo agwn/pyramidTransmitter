{
 "metadata": {
  "name": "Your First Pattern Generator"
 },
 "nbformat": 3,
 "nbformat_minor": 0,
 "worksheets": [
  {
   "cells": [
    {
     "cell_type": "heading",
     "level": 1,
     "metadata": {},
     "source": [
      "Pyramid Programming - Your First Pattern Generator"
     ]
    },
    {
     "cell_type": "markdown",
     "metadata": {},
     "source": [
      "The focus of this tutorial is on setting up a new routine and running it. Many of the omitted details will be covered in other tutorials, and covered in depth."
     ]
    },
    {
     "cell_type": "markdown",
     "metadata": {},
     "source": [
      "These are the steps necessary for creating a pattern generator.\n",
      "\n",
      "<ul>\n",
      "    <li>Creating a Pattern Generator</li>\n",
      "    <li>Createing a SetList</li>\n",
      "    <li>Playing the SetList</li>\n",
      "</ul>"
     ]
    },
    {
     "cell_type": "heading",
     "level": 3,
     "metadata": {},
     "source": [
      "Creating a Pattern Generator"
     ]
    },
    {
     "cell_type": "markdown",
     "metadata": {},
     "source": [
      "Writing a pattern generator is very similar to writing a Processing sketch out of the box with some key differences. Let's start out with a simple routine, and then discuss the differences. The following is in Tutorial.pde:"
     ]
    },
    {
     "cell_type": "markdown",
     "metadata": {},
     "source": [
      "<pre>class TutorialNoise extends CanvasRoutine {\n",
      "  int nPixels = 1;\n",
      "\n",
      "  void draw() {\n",
      "    pg.beginDraw();\n",
      "\n",
      "    // Set background to black\n",
      "    pg.background(0);\n",
      "\n",
      "    // Draw pixels\n",
      "    pg.stroke(255);\n",
      "\n",
      "    for (int i = 0; i < nPixels; i++) {\n",
      "      pg.point(random(pg.width), random(pg.height));\n",
      "    }\n",
      "\n",
      "    pg.endDraw();\n",
      "  }\n",
      "}</pre>"
     ]
    },
    {
     "cell_type": "markdown",
     "metadata": {},
     "source": [
      "This pattern generator randomly draws white pixels to a black background. Let's take a look at the first line:"
     ]
    },
    {
     "cell_type": "markdown",
     "metadata": {},
     "source": [
      "<pre>class TutorialNoise extends CanvasRoutine {</pre>"
     ]
    },
    {
     "cell_type": "markdown",
     "metadata": {},
     "source": [
      "A pattern generator is a class. This class must inherit from <code>class CanvasRoutine</code> in order to work with the engine. The rest works mostly like an out-of-the-box Processing sketch, though there are a couple of minor differences:\n",
      "\n",
      "<ul>\n",
      "    <li>All drawing functions should write to member pg. For example, instead of <code>background(0)</code> you write <code>pg.background(0)</code>.</li>\n",
      "    <li>You must begin and end all your drawing with <code>pg.beginDraw()</code> and <code>pg.endDraw()</code>.</li>\n",
      "</ul>"
     ]
    },
    {
     "cell_type": "heading",
     "level": 3,
     "metadata": {},
     "source": [
      "Creating a SetList"
     ]
    },
    {
     "cell_type": "markdown",
     "metadata": {},
     "source": [
      "A <code>SetList</code> is a sequence of patterns. In order for us to see our routine in actione, we must add it to a <code>SetList</code>, and play that <code>SetList</code> in pyramidTransitter.pde. In this case, we'll only have the on pattern. Here's the <code>SetList</code> we use, also found in Tutorial.pde:"
     ]
    },
    {
     "cell_type": "markdown",
     "metadata": {},
     "source": [
      "<pre>class TutorialNoisePlayer extends SetList {\n",
      "  TutorialNoisePlayer() {\n",
      "    TutorialNoise noise = new TutorialNoise();\n",
      "    noise.nPixels = 100;\n",
      "\n",
      "    setCanvas(canvas2, noise);\n",
      "  }\n",
      "}</pre>"
     ]
    },
    {
     "cell_type": "markdown",
     "metadata": {},
     "source": [
      "First thing to notice is that <code>TutorialNoisePlayer</code> extends from <code>class SetList</code>, which is an alias for the <code>class CanvasRoutineController</code> located in file CanvasRoutineController.pde."
     ]
    },
    {
     "cell_type": "markdown",
     "metadata": {},
     "source": [
      "The second thing to notice is that all the logic for instantiating the <code>TutorialNoise</code> routine and adding it to the sequence is located in the <code>TutorialNoisePlayer()</code> constructor. Let's take a closer look at creating the routine object:"
     ]
    },
    {
     "cell_type": "markdown",
     "metadata": {},
     "source": [
      "<pre>TutorialNoise noise = new TutorialNoise();\n",
      "noise.nPixels = 100;</pre>"
     ]
    },
    {
     "cell_type": "markdown",
     "metadata": {},
     "source": [
      "This creates the object <code>noise</code>, which is of type <code>TutorialNoise</code>. Basically we now have a working copy of our pattern generator. We've also set the member <code>nPixels</code> to 100, so it will draw 100 white pixels each frame. At this point, it just exists and isn't doing anything. We need to add it to a sequence, which is accomplished with this line:"
     ]
    },
    {
     "cell_type": "markdown",
     "metadata": {},
     "source": [
      "<pre>setCanvas(canvas2, noise);</pre>"
     ]
    },
    {
     "cell_type": "markdown",
     "metadata": {},
     "source": [
      "The method <code>setCanvas</code> takes two parameters: The canvas and the routine. In this case, we're telling our <code>noise</code> pattern generator to draw on <code>canvas2</code>."
     ]
    },
    {
     "cell_type": "heading",
     "level": 3,
     "metadata": {},
     "source": [
      "Playing the SetList"
     ]
    },
    {
     "cell_type": "markdown",
     "metadata": {},
     "source": [
      "The last step is playing our <code>TutorialNoisePlayer</code> with our <code>TutorialNoise</code> routine. Let's take a look at the relevant code from pyramidTransimmter.pde:"
     ]
    },
    {
     "cell_type": "markdown",
     "metadata": {},
     "source": [
      "<pre>.\n",
      ".\n",
      ".\n",
      "\n",
      "// Step 1. Create set list variable\n",
      "TutorialNoisePlayer tutorialNoise;\n",
      "TutMovingLineSet tutMovingLine;\n",
      "TechDemo techDemo;\n",
      "Demo demo;\n",
      "DebuggingSetList debuggingSetList;\n",
      "\n",
      "void setup() {\n",
      "  .\n",
      "  .\n",
      "  .\n",
      "  \n",
      "  // Step 2. Instantiate set list.\n",
      "  tutorialNoise = new TutorialNoisePlayer();\n",
      "  tutMovingLine = new TutMovingLineSet();\n",
      "  techDemo = new TechDemo();\n",
      "  demo = new Demo();\n",
      "  debuggingSetList = new DebuggingSetList();\n",
      "\n",
      "  // Step 3. Set active player to set list\n",
      "  setList = tutorialNoise;\n",
      "}</pre>"
     ]
    },
    {
     "cell_type": "markdown",
     "metadata": {},
     "source": [
      "Notice there are three steps outlined in the comments. These are the three places that you need to make changes to run your pattern.\n",
      "\n",
      "<ul>\n",
      "    <li><code>Step 1. Create set list variable</code></li>\n",
      "    <li><code>Step 2. Instantiate set list.</code></li>\n",
      "    <li><code>Step 3. Set active player to set list</code></li>\n",
      "</ul>"
     ]
    },
    {
     "cell_type": "markdown",
     "metadata": {},
     "source": [
      "If you follow all three steps, and everything else checks out, then you should see it working next time you run this sketch."
     ]
    }
   ],
   "metadata": {}
  }
 ]
}